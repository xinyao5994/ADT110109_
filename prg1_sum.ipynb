{
 "cells": [
  {
   "cell_type": "code",
   "execution_count": 1,
   "id": "6e9fa1d8",
   "metadata": {},
   "outputs": [
    {
     "name": "stdout",
     "output_type": "stream",
     "text": [
      "請輸入正整數:6\n",
      " 1 到 6 的整數和為 21\n"
     ]
    }
   ],
   "source": [
    "# Exercise 1: 計算1+2+....n\n",
    "sum = 0\n",
    "n = int (input(\"請輸入正整數:\"))\n",
    "for i in range(1, n+1):\n",
    "    sum += i\n",
    "print(\" 1 到 %d 的整數和為 %d\" % (n, sum))\n"
   ]
  },
  {
   "cell_type": "code",
   "execution_count": null,
   "id": "bca452fd",
   "metadata": {},
   "outputs": [],
   "source": []
  }
 ],
 "metadata": {
  "kernelspec": {
   "display_name": "Python 3 (ipykernel)",
   "language": "python",
   "name": "python3"
  },
  "language_info": {
   "codemirror_mode": {
    "name": "ipython",
    "version": 3
   },
   "file_extension": ".py",
   "mimetype": "text/x-python",
   "name": "python",
   "nbconvert_exporter": "python",
   "pygments_lexer": "ipython3",
   "version": "3.11.5"
  }
 },
 "nbformat": 4,
 "nbformat_minor": 5
}
